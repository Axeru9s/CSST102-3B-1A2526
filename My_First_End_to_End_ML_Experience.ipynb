{
  "nbformat": 4,
  "nbformat_minor": 0,
  "metadata": {
    "colab": {
      "provenance": [],
      "authorship_tag": "ABX9TyMwF37Nix+1a1nvGEzZUEvy",
      "include_colab_link": true
    },
    "kernelspec": {
      "name": "python3",
      "display_name": "Python 3"
    },
    "language_info": {
      "name": "python"
    }
  },
  "cells": [
    {
      "cell_type": "markdown",
      "metadata": {
        "id": "view-in-github",
        "colab_type": "text"
      },
      "source": [
        "<a href=\"https://colab.research.google.com/github/Axeru9s/CSST102-3B-1A2526/blob/main/My_First_End_to_End_ML_Experience.ipynb\" target=\"_parent\"><img src=\"https://colab.research.google.com/assets/colab-badge.svg\" alt=\"Open In Colab\"/></a>"
      ]
    },
    {
      "cell_type": "markdown",
      "source": [
        "Doing this machine learning project, where we went through all the steps from getting the data to seeing how well our models worked, was a really good way to learn. It showed me that you can't just jump into building a model. You have to first understand your data, look at it with plots, and get it ready for the computer. We used the California Housing data, and it was cool to see how things like how old a house is or the average number of rooms might affect its price. Splitting the data and scaling it felt a bit technical at first, but I get now why it's important, especially for some models, so they don't get tricked by big numbers.\n",
        "\n",
        "The hardest part for me was figuring out the best settings for the models, like how deep to make the decision tree. The notebook just had one setting, but I know in real projects, you have to try out a bunch of different ones to find what works best. It feels like a lot of trial and error, and you need to understand what each setting does. It's a bit tricky to know where to start and how to know when you've found the best ones. I think I need to practice this part more to get better at it.\n",
        "\n",
        "I can see how this whole process could be used for other things, like trying to guess how much a house would cost in my own town. The steps would be pretty much the same: get the house data, look at it to understand it, clean it up, and then use the models to make predictions. It's cool to see how the same basic idea can be used for different problems, as long as you have the right data. This project helped me see the big picture of how machine learning projects are put together."
      ],
      "metadata": {
        "id": "SpmAl2mK1zkZ"
      }
    }
  ]
}